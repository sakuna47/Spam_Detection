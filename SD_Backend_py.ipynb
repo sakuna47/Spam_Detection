{
  "nbformat": 4,
  "nbformat_minor": 0,
  "metadata": {
    "colab": {
      "provenance": [],
      "authorship_tag": "ABX9TyM8UXHo22E/966MEDaO8ktu",
      "include_colab_link": true
    },
    "kernelspec": {
      "name": "python3",
      "display_name": "Python 3"
    },
    "language_info": {
      "name": "python"
    }
  },
  "cells": [
    {
      "cell_type": "markdown",
      "metadata": {
        "id": "view-in-github",
        "colab_type": "text"
      },
      "source": [
        "<a href=\"https://colab.research.google.com/github/sakuna47/Spam_Detection/blob/SD_FrontEnd/SD_Backend_py.ipynb\" target=\"_parent\"><img src=\"https://colab.research.google.com/assets/colab-badge.svg\" alt=\"Open In Colab\"/></a>"
      ]
    },
    {
      "cell_type": "code",
      "execution_count": null,
      "metadata": {
        "id": "xL1ghPagHERN"
      },
      "outputs": [],
      "source": [
        "import streamlit as st\n",
        "import pickle\n",
        "import numpy as np\n",
        "\n",
        "# Load the model and vectorizer\n",
        "with open(\"spam_model.pkl\", \"rb\") as f:\n",
        "    model = pickle.load(f)\n",
        "\n",
        "with open(\"tfidf_vectorizer.pkl\", \"rb\") as f:\n",
        "    vectorizer = pickle.load(f)\n",
        "\n",
        "# Streamlit app\n",
        "st.title(\"Spam Detection Web App\")\n",
        "\n",
        "# Input text box\n",
        "user_input = st.text_area(\"Enter a message:\")\n",
        "\n",
        "# Predict button\n",
        "if st.button(\"Predict\"):\n",
        "    if user_input:\n",
        "        # Preprocess the input\n",
        "        user_input = user_input.lower()\n",
        "        user_input = vectorizer.transform([user_input])\n",
        "\n",
        "        # Make prediction\n",
        "        prediction = model.predict(user_input)\n",
        "        if prediction[0] == 1:\n",
        "            st.error(\"This is a SPAM message!\")\n",
        "        else:\n",
        "            st.success(\"This is a HAM (not spam) message!\")\n",
        "    else:\n",
        "        st.warning(\"Please enter a message.\")"
      ]
    }
  ]
}